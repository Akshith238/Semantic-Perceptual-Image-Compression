{
 "cells": [
  {
   "cell_type": "code",
   "execution_count": 1,
   "id": "6a5e50c1-261e-4b47-aa7e-627b1f3dcf5e",
   "metadata": {},
   "outputs": [
    {
     "name": "stdout",
     "output_type": "stream",
     "text": [
      "[PhysicalDevice(name='/physical_device:GPU:0', device_type='GPU')]\n"
     ]
    }
   ],
   "source": [
    "import numpy as np\n",
    "import tensorflow as tf\n",
    "from tensorflow.keras.layers import Input, Conv2D, Flatten, Dense, Reshape, Lambda, MaxPooling2D,UpSampling2D\n",
    "from tensorflow.keras.models import Model\n",
    "from tensorflow.keras.applications import VGG16\n",
    "from tensorflow.keras import backend as K\n",
    "from tensorflow.keras.datasets import mnist\n",
    "import matplotlib.pyplot as plt\n",
    "print(tf.config.list_physical_devices('GPU'))"
   ]
  },
  {
   "cell_type": "code",
   "execution_count": 2,
   "id": "0e5762ff-d4dd-4071-959d-2ff9f1a8f2f6",
   "metadata": {},
   "outputs": [],
   "source": [
    "# Load and preprocess the dataset (MNIST for example)\n",
    "(x_train, _), (x_test, _) = mnist.load_data()\n",
    "x_train = x_train.astype('float32') / 255.0\n",
    "x_test = x_test.astype('float32') / 255.0\n",
    "x_train = np.reshape(x_train, (len(x_train), 28, 28, 1))\n",
    "x_test = np.reshape(x_test, (len(x_test), 28, 28, 1))"
   ]
  },
  {
   "cell_type": "code",
   "execution_count": 3,
   "id": "7743b63c-3410-4207-a977-7fae51383d97",
   "metadata": {},
   "outputs": [],
   "source": [
    "# Define the CNN architecture\n",
    "input_img = Input(shape=(28, 28, 1))"
   ]
  },
  {
   "cell_type": "code",
   "execution_count": 4,
   "id": "26fe48cb-dcb7-4960-b5ad-19f4aa2d5a1f",
   "metadata": {},
   "outputs": [],
   "source": [
    "# Encoder\n",
    "x = Conv2D(32, (3, 3), activation='relu', padding='same')(input_img)\n",
    "x = MaxPooling2D((2, 2), padding='same')(x)\n",
    "x = Conv2D(64, (3, 3), activation='relu', padding='same')(x)\n",
    "x = MaxPooling2D((2, 2), padding='same')(x)\n"
   ]
  },
  {
   "cell_type": "code",
   "execution_count": 5,
   "id": "31c59dc2-a3b4-4c0c-92fe-0c386cdbab36",
   "metadata": {},
   "outputs": [],
   "source": [
    "\n",
    "# Decoder\n",
    "x = Conv2D(64, (3, 3), activation='relu', padding='same')(x)\n",
    "x = UpSampling2D((2, 2))(x)\n",
    "x = Conv2D(32, (3, 3), activation='relu', padding='same')(x)\n",
    "x = UpSampling2D((2, 2))(x)\n",
    "decoded = Conv2D(1, (3, 3), activation='sigmoid', padding='same')(x)\n",
    "\n"
   ]
  },
  {
   "cell_type": "code",
   "execution_count": 6,
   "id": "719db82b-ad99-49f3-b456-7af6cc629e72",
   "metadata": {},
   "outputs": [],
   "source": [
    "# Create the autoencoder model\n",
    "autoencoder = Model(input_img, decoded)\n",
    "autoencoder.compile(optimizer='adam', loss='binary_crossentropy')\n",
    "\n"
   ]
  },
  {
   "cell_type": "code",
   "execution_count": 7,
   "id": "f15f7fa2-6eeb-40a7-877b-32c314030989",
   "metadata": {
    "scrolled": true
   },
   "outputs": [
    {
     "name": "stdout",
     "output_type": "stream",
     "text": [
      "Epoch 1/50\n",
      "469/469 [==============================] - 18s 22ms/step - loss: 0.1028 - val_loss: 0.0735\n",
      "Epoch 2/50\n",
      "469/469 [==============================] - 10s 20ms/step - loss: 0.0722 - val_loss: 0.0698\n",
      "Epoch 3/50\n",
      "469/469 [==============================] - 10s 21ms/step - loss: 0.0697 - val_loss: 0.0682\n",
      "Epoch 4/50\n",
      "469/469 [==============================] - 10s 21ms/step - loss: 0.0682 - val_loss: 0.0677\n",
      "Epoch 5/50\n",
      "469/469 [==============================] - 10s 21ms/step - loss: 0.0673 - val_loss: 0.0664\n",
      "Epoch 6/50\n",
      "469/469 [==============================] - 10s 21ms/step - loss: 0.0667 - val_loss: 0.0658\n",
      "Epoch 7/50\n",
      "469/469 [==============================] - 9s 20ms/step - loss: 0.0661 - val_loss: 0.0654\n",
      "Epoch 8/50\n",
      "469/469 [==============================] - 9s 20ms/step - loss: 0.0656 - val_loss: 0.0650\n",
      "Epoch 9/50\n",
      "469/469 [==============================] - 9s 20ms/step - loss: 0.0652 - val_loss: 0.0646\n",
      "Epoch 10/50\n",
      "469/469 [==============================] - 9s 20ms/step - loss: 0.0649 - val_loss: 0.0643\n",
      "Epoch 11/50\n",
      "469/469 [==============================] - 10s 20ms/step - loss: 0.0646 - val_loss: 0.0641\n",
      "Epoch 12/50\n",
      "469/469 [==============================] - 9s 20ms/step - loss: 0.0644 - val_loss: 0.0638\n",
      "Epoch 13/50\n",
      "469/469 [==============================] - 9s 20ms/step - loss: 0.0641 - val_loss: 0.0636\n",
      "Epoch 14/50\n",
      "469/469 [==============================] - 9s 20ms/step - loss: 0.0639 - val_loss: 0.0635\n",
      "Epoch 15/50\n",
      "469/469 [==============================] - 9s 20ms/step - loss: 0.0638 - val_loss: 0.0633\n",
      "Epoch 16/50\n",
      "469/469 [==============================] - 9s 20ms/step - loss: 0.0636 - val_loss: 0.0631\n",
      "Epoch 17/50\n",
      "469/469 [==============================] - 9s 20ms/step - loss: 0.0635 - val_loss: 0.0630\n",
      "Epoch 18/50\n",
      "469/469 [==============================] - 10s 20ms/step - loss: 0.0634 - val_loss: 0.0629\n",
      "Epoch 19/50\n",
      "469/469 [==============================] - 9s 20ms/step - loss: 0.0633 - val_loss: 0.0630\n",
      "Epoch 20/50\n",
      "469/469 [==============================] - 9s 20ms/step - loss: 0.0631 - val_loss: 0.0627\n",
      "Epoch 21/50\n",
      "469/469 [==============================] - 9s 20ms/step - loss: 0.0631 - val_loss: 0.0626\n",
      "Epoch 22/50\n",
      "469/469 [==============================] - 9s 20ms/step - loss: 0.0630 - val_loss: 0.0626\n",
      "Epoch 23/50\n",
      "469/469 [==============================] - 9s 20ms/step - loss: 0.0629 - val_loss: 0.0627\n",
      "Epoch 24/50\n",
      "469/469 [==============================] - 9s 20ms/step - loss: 0.0628 - val_loss: 0.0625\n",
      "Epoch 25/50\n",
      "469/469 [==============================] - 9s 20ms/step - loss: 0.0628 - val_loss: 0.0625\n",
      "Epoch 26/50\n",
      "469/469 [==============================] - 9s 20ms/step - loss: 0.0627 - val_loss: 0.0623\n",
      "Epoch 27/50\n",
      "469/469 [==============================] - 9s 20ms/step - loss: 0.0626 - val_loss: 0.0623\n",
      "Epoch 28/50\n",
      "469/469 [==============================] - 9s 20ms/step - loss: 0.0626 - val_loss: 0.0623\n",
      "Epoch 29/50\n",
      "469/469 [==============================] - 9s 20ms/step - loss: 0.0625 - val_loss: 0.0621\n",
      "Epoch 30/50\n",
      "469/469 [==============================] - 9s 20ms/step - loss: 0.0625 - val_loss: 0.0622\n",
      "Epoch 31/50\n",
      "469/469 [==============================] - 9s 20ms/step - loss: 0.0624 - val_loss: 0.0621\n",
      "Epoch 32/50\n",
      "469/469 [==============================] - 9s 20ms/step - loss: 0.0624 - val_loss: 0.0620\n",
      "Epoch 33/50\n",
      "469/469 [==============================] - 9s 20ms/step - loss: 0.0623 - val_loss: 0.0620\n",
      "Epoch 34/50\n",
      "469/469 [==============================] - 9s 20ms/step - loss: 0.0623 - val_loss: 0.0620\n",
      "Epoch 35/50\n",
      "469/469 [==============================] - 9s 20ms/step - loss: 0.0623 - val_loss: 0.0619\n",
      "Epoch 36/50\n",
      "469/469 [==============================] - 9s 20ms/step - loss: 0.0622 - val_loss: 0.0621\n",
      "Epoch 37/50\n",
      "469/469 [==============================] - 9s 20ms/step - loss: 0.0622 - val_loss: 0.0618\n",
      "Epoch 38/50\n",
      "469/469 [==============================] - 9s 20ms/step - loss: 0.0622 - val_loss: 0.0618\n",
      "Epoch 39/50\n",
      "469/469 [==============================] - 9s 20ms/step - loss: 0.0621 - val_loss: 0.0618\n",
      "Epoch 40/50\n",
      "469/469 [==============================] - 9s 20ms/step - loss: 0.0621 - val_loss: 0.0618\n",
      "Epoch 41/50\n",
      "469/469 [==============================] - 9s 20ms/step - loss: 0.0621 - val_loss: 0.0618\n",
      "Epoch 42/50\n",
      "469/469 [==============================] - 9s 20ms/step - loss: 0.0620 - val_loss: 0.0618\n",
      "Epoch 43/50\n",
      "469/469 [==============================] - 9s 20ms/step - loss: 0.0620 - val_loss: 0.0617\n",
      "Epoch 44/50\n",
      "469/469 [==============================] - 9s 20ms/step - loss: 0.0620 - val_loss: 0.0617\n",
      "Epoch 45/50\n",
      "469/469 [==============================] - 9s 20ms/step - loss: 0.0620 - val_loss: 0.0617\n",
      "Epoch 46/50\n",
      "469/469 [==============================] - 9s 20ms/step - loss: 0.0619 - val_loss: 0.0616\n",
      "Epoch 47/50\n",
      "469/469 [==============================] - 9s 20ms/step - loss: 0.0619 - val_loss: 0.0616\n",
      "Epoch 48/50\n",
      "469/469 [==============================] - 9s 20ms/step - loss: 0.0619 - val_loss: 0.0616\n",
      "Epoch 49/50\n",
      "469/469 [==============================] - 9s 20ms/step - loss: 0.0619 - val_loss: 0.0615\n",
      "Epoch 50/50\n",
      "469/469 [==============================] - 9s 20ms/step - loss: 0.0619 - val_loss: 0.0616\n"
     ]
    },
    {
     "data": {
      "text/plain": [
       "<keras.callbacks.History at 0x1248c9ebd30>"
      ]
     },
     "execution_count": 7,
     "metadata": {},
     "output_type": "execute_result"
    }
   ],
   "source": [
    "# Train the model\n",
    "autoencoder.fit(x_train, x_train, epochs=50, batch_size=128, shuffle=True, validation_data=(x_test, x_test))\n"
   ]
  },
  {
   "cell_type": "code",
   "execution_count": 8,
   "id": "7b50dd64-d179-4228-8897-7fc7f8e27240",
   "metadata": {},
   "outputs": [
    {
     "name": "stdout",
     "output_type": "stream",
     "text": [
      "313/313 [==============================] - 1s 3ms/step\n"
     ]
    }
   ],
   "source": [
    "\n",
    "# Test the model by compressing and decompressing test images\n",
    "decoded_imgs = autoencoder.predict(x_test)\n"
   ]
  },
  {
   "cell_type": "code",
   "execution_count": 9,
   "id": "f3fcbe62-c953-4ff2-bbd7-3fdf14c14aaa",
   "metadata": {},
   "outputs": [
    {
     "data": {
      "image/png": "[encoded data removed]",
      "text/plain": [
       "<Figure size 2000x400 with 20 Axes>"
      ]
     },
     "metadata": {},
     "output_type": "display_data"
    }
   ],
   "source": [
    "\n",
    "# Plot the original and decoded images\n",
    "n = 10  # Number of images to display\n",
    "plt.figure(figsize=(20, 4))\n",
    "for i in range(n):\n",
    "    # Original images\n",
    "    ax = plt.subplot(2, n, i + 1)\n",
    "    plt.imshow(x_test[i].reshape(28, 28))\n",
    "    plt.gray()\n",
    "    ax.get_xaxis().set_visible(False)\n",
    "    ax.get_yaxis().set_visible(False)\n",
    "\n",
    "    # Decoded images\n",
    "    ax = plt.subplot(2, n, i + 1 + n)\n",
    "    plt.imshow(decoded_imgs[i].reshape(28, 28))\n",
    "    plt.gray()\n",
    "    ax.get_xaxis().set_visible(False)\n",
    "    ax.get_yaxis().set_visible(False)\n",
    "\n",
    "plt.show()\n"
   ]
  },
  {
   "cell_type": "code",
   "execution_count": null,
   "id": "e0eb3605-2cb5-4f09-9343-3e3359152558",
   "metadata": {},
   "outputs": [],
   "source": []
  }
 ],
 "metadata": {
  "kernelspec": {
   "display_name": "spic",
   "language": "python",
   "name": "spic"
  },
  "language_info": {
   "codemirror_mode": {
    "name": "ipython",
    "version": 3
   },
   "file_extension": ".py",
   "mimetype": "text/x-python",
   "name": "python",
   "nbconvert_exporter": "python",
   "pygments_lexer": "ipython3",
   "version": "3.9.0"
  }
 },
 "nbformat": 4,
 "nbformat_minor": 5
}
